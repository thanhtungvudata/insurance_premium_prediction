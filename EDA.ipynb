{
 "cells": [
  {
   "cell_type": "code",
   "execution_count": null,
   "metadata": {},
   "outputs": [],
   "source": [
    "import pandas as pd\n",
    "import numpy as np\n",
    "import matplotlib.pyplot as plt\n",
    "import seaborn as sns\n",
    "from sklearn.model_selection import KFold\n",
    "from sklearn.metrics import mean_squared_log_error\n",
    "from xgboost import XGBRegressor\n",
    "\n",
    "# 📌 Load Dataset\n",
    "file_path = \"train.csv\"  # Update the path if needed\n",
    "df = pd.read_csv(file_path)\n",
    "\n",
    "# Distribution of Target Variable (Premium Amount)\n",
    "plt.figure(figsize=(8, 5))\n",
    "sns.histplot(df['Premium Amount'], bins=50, kde=True)\n",
    "plt.title(\"Distribution of Premium Amount\")\n",
    "plt.xlabel(\"Premium Amount\")\n",
    "plt.ylabel(\"Frequency\")\n",
    "plt.show()\n",
    "\n",
    "# 📌 Define Target Variable (Log Transformation to Reduce Skewness)\n",
    "df[\"Premium Amount\"] = np.log1p(df[\"Premium Amount\"])  # log(1 + x) transformation\n",
    "\n",
    "# 📌 Convert Date Features\n",
    "df[\"Policy Start Date\"] = pd.to_datetime(df[\"Policy Start Date\"])\n",
    "df[\"year\"] = df[\"Policy Start Date\"].dt.year.astype(\"float32\")\n",
    "df[\"month\"] = df[\"Policy Start Date\"].dt.month.astype(\"float32\")\n",
    "df[\"day\"] = df[\"Policy Start Date\"].dt.day.astype(\"float32\")\n",
    "df[\"dow\"] = df[\"Policy Start Date\"].dt.dayofweek.astype(\"float32\")\n",
    "df.drop(columns=[\"Policy Start Date\", \"id\"], inplace=True, errors=\"ignore\")  # Remove ID and date column\n",
    "\n",
    "# 📌 Identify Categorical and Numerical Features\n",
    "cat_features = df.select_dtypes(include=[\"object\"]).columns.tolist()\n",
    "num_features = df.select_dtypes(include=[\"int64\", \"float64\"]).columns.tolist()\n",
    "num_features.remove(\"Premium Amount\")  # Exclude target variable\n",
    "\n",
    "\n"
   ]
  }
 ],
 "metadata": {
  "kernelspec": {
   "display_name": "Python 3",
   "language": "python",
   "name": "python3"
  },
  "language_info": {
   "codemirror_mode": {
    "name": "ipython",
    "version": 3
   },
   "file_extension": ".py",
   "mimetype": "text/x-python",
   "name": "python",
   "nbconvert_exporter": "python",
   "pygments_lexer": "ipython3",
   "version": "3.11.9"
  }
 },
 "nbformat": 4,
 "nbformat_minor": 2
}
